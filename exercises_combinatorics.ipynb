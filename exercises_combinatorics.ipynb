{
 "cells": [
  {
   "cell_type": "code",
   "execution_count": 1,
   "id": "outdoor-clause",
   "metadata": {},
   "outputs": [],
   "source": [
    "from itertools import combinations, permutations\n",
    "import math\n",
    "from collections import deque #“double-ended queue”)\n",
    "import importlib"
   ]
  },
  {
   "cell_type": "code",
   "execution_count": 2,
   "id": "agreed-silence",
   "metadata": {},
   "outputs": [
    {
     "data": {
      "text/plain": [
       "<module 'Circular_list' from '/Users/gaby/Documents/Combinatorics/Circular_list.py'>"
      ]
     },
     "execution_count": 2,
     "metadata": {},
     "output_type": "execute_result"
    }
   ],
   "source": [
    "import Circular_list as cl\n",
    "importlib.reload(cl)"
   ]
  },
  {
   "cell_type": "raw",
   "id": "sixth-angle",
   "metadata": {},
   "source": [
    "marry go round\n",
    "how many ways to paint a marry go round of p carriages and n colors\n",
    "(n**p - n)/p + n (if p is prime)\n"
   ]
  },
  {
   "cell_type": "code",
   "execution_count": 60,
   "id": "twelve-celtic",
   "metadata": {},
   "outputs": [
    {
     "data": {
      "text/plain": [
       "108"
      ]
     },
     "execution_count": 60,
     "metadata": {},
     "output_type": "execute_result"
    }
   ],
   "source": [
    "p = 10 #positions\n",
    "\n",
    "#2 colors\n",
    "circ_lists =list()\n",
    "for i in range(p+1):    \n",
    "    elems = [1]*i\n",
    "    elems.extend([2]* (p-i))    \n",
    "    circ_lists.extend(cl.Circular_list.create_distincts_circular_lists(elems))\n",
    "print(len(circ_lists))\n",
    "len(set(circ_lists))"
   ]
  },
  {
   "cell_type": "code",
   "execution_count": 66,
   "id": "elementary-jefferson",
   "metadata": {},
   "outputs": [
    {
     "name": "stdout",
     "output_type": "stream",
     "text": [
      "11\n"
     ]
    },
    {
     "data": {
      "text/plain": [
       "11"
      ]
     },
     "execution_count": 66,
     "metadata": {},
     "output_type": "execute_result"
    }
   ],
   "source": [
    "p = 3 #positions\n",
    "c = 3 #colors\n",
    "\n",
    "all_c = [ ['c_'+str(i)]*p for i in range(1,c+1,1) ]\n",
    "all_c = [item for sublist in all_c for item in sublist]\n",
    "combs = list(set(combinations(all_c, p)))\n",
    "circ_lists = list()\n",
    "for i in combs:  \n",
    "    circ_lists.extend(cl.Circular_list.create_distincts_circular_lists(i))\n",
    "print(len(circ_lists))\n",
    "len(set(circ_lists))"
   ]
  },
  {
   "cell_type": "code",
   "execution_count": 67,
   "id": "nonprofit-grenada",
   "metadata": {},
   "outputs": [
    {
     "data": {
      "text/plain": [
       "{['c_1', 'c_1', 'c_1'],\n",
       " ['c_1', 'c_1', 'c_3'],\n",
       " ['c_1', 'c_2', 'c_1'],\n",
       " ['c_1', 'c_2', 'c_2'],\n",
       " ['c_2', 'c_1', 'c_3'],\n",
       " ['c_2', 'c_2', 'c_2'],\n",
       " ['c_2', 'c_2', 'c_3'],\n",
       " ['c_3', 'c_1', 'c_2'],\n",
       " ['c_3', 'c_1', 'c_3'],\n",
       " ['c_3', 'c_2', 'c_3'],\n",
       " ['c_3', 'c_3', 'c_3']}"
      ]
     },
     "execution_count": 67,
     "metadata": {},
     "output_type": "execute_result"
    }
   ],
   "source": [
    "set(circ_lists)"
   ]
  },
  {
   "cell_type": "code",
   "execution_count": null,
   "id": "historic-small",
   "metadata": {},
   "outputs": [],
   "source": []
  }
 ],
 "metadata": {
  "kernelspec": {
   "display_name": "Python 3",
   "language": "python",
   "name": "python3"
  },
  "language_info": {
   "codemirror_mode": {
    "name": "ipython",
    "version": 3
   },
   "file_extension": ".py",
   "mimetype": "text/x-python",
   "name": "python",
   "nbconvert_exporter": "python",
   "pygments_lexer": "ipython3",
   "version": "3.9.4"
  }
 },
 "nbformat": 4,
 "nbformat_minor": 5
}
